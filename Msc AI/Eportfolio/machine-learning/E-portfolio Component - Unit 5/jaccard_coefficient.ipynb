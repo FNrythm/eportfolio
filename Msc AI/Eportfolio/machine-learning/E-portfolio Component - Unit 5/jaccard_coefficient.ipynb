{
 "cells": [
  {
   "cell_type": "markdown",
   "metadata": {},
   "source": [
    "# Jaccard Coefficient Calculation for Pathological Test Results\n",
    "\n",
    "This notebook calculates the Jaccard coefficient for the following pairs of individuals based on their pathological test results: (Jack, Mary), (Jack, Jim), (Jim, Mary)."
   ]
  },
  {
   "cell_type": "code",
   "execution_count": null,
   "metadata": {},
   "outputs": [],
   "source": [
    "import pandas as pd\n",
    "\n",
    "# Data\n",
    "data = {\n",
    "    'Name': ['Jack', 'Mary', 'Jim'],\n",
    "    'Gender': ['M', 'F', 'M'],\n",
    "    'Fever': ['Y', 'Y', 'Y'],\n",
    "    'Cough': ['N', 'N', 'P'],\n",
    "    'Test-1': ['P', 'P', 'N'],\n",
    "    'Test-2': ['N', 'A', 'N'],\n",
    "    'Test-3': ['N', 'P', 'N'],\n",
    "    'Test-4': ['A', 'N', 'A']\n",
    "}\n",
    "\n",
    "df = pd.DataFrame(data)\n",
    "df.set_index('Name', inplace=True)\n",
    "df"
   ]
  },
  {
   "cell_type": "markdown",
   "metadata": {},
   "source": [
    "## Jaccard Coefficient Function\n",
    "The Jaccard coefficient is defined as the size of the intersection divided by the size of the union of two sets. Here, we consider matching values (excluding the individual's name and gender) as the intersection."
   ]
  },
  {
   "cell_type": "code",
   "execution_count": null,
   "metadata": {},
   "outputs": [],
   "source": [
    "def jaccard_coefficient(row1, row2):\n",
    "    # Exclude Gender\n",
    "    features1 = row1[1:]\n",
    "    features2 = row2[1:]\n",
    "    intersection = sum(f1 == f2 for f1, f2 in zip(features1, features2))\n",
    "    union = len(features1)\n",
    "    return intersection / union\n"
   ]
  },
  {
   "cell_type": "markdown",
   "metadata": {},
   "source": [
    "## Calculate Jaccard Coefficients for the Pairs\n"
   ]
  },
  {
   "cell_type": "code",
   "execution_count": null,
   "metadata": {},
   "outputs": [],
   "source": [
    "pairs = [('Jack', 'Mary'), ('Jack', 'Jim'), ('Jim', 'Mary')]\n",
    "for a, b in pairs:\n",
    "    coef = jaccard_coefficient(df.loc[a], df.loc[b])\n",
    "    print(f'Jaccard coefficient for ({a}, {b}): {coef:.2f}')\n"
   ]
  }
 ],
 "metadata": {
  "kernelspec": {
   "display_name": "Python 3",
   "language": "python",
   "name": "python3"
  },
  "language_info": {
   "name": "python",
   "version": "3.8"
  }
 },
 "nbformat": 4,
 "nbformat_minor": 2
}
