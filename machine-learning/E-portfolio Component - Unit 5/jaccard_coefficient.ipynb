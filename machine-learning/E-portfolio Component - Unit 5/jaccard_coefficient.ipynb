{
 "cells": [
  {
   "cell_type": "markdown",
   "metadata": {},
   "source": [
    "# Jaccard Coefficient Calculation for Pathological Test Results\n",
    "\n",
    "This notebook demonstrates the calculation of Jaccard coefficients for pairs of individuals based on their pathological test results.\n",
    "\n",
    "## Data Preprocessing\n",
    "To calculate the Jaccard coefficient, we first convert the asymmetric variables to binary values:\n",
    "- Y & P = 1 (Present/Yes)\n",
    "- N & A = 0 (Absent/No)\n",
    "\n",
    "Note: Gender is a symmetric variable (male, female have the same weight), so it is not converted."
   ]
  },
  {
   "cell_type": "code",
   "execution_count": null,
   "metadata": {},
   "outputs": [],
   "source": [
    "import pandas as pd\n",
    "import numpy as np\n",
    "\n",
    "# Data\n",
    "data = {\n",
    "    'Name': ['Jack', 'Mary', 'Jim'],\n",
    "    'Gender': ['M', 'F', 'M'],\n",
    "    'Fever': ['Y', 'Y', 'Y'],\n",
    "    'Cough': ['N', 'N', 'P'],\n",
    "    'Test-1': ['P', 'P', 'N'],\n",
    "    'Test-2': ['N', 'A', 'N'],\n",
    "    'Test-3': ['N', 'P', 'N'],\n",
    "    'Test-4': ['A', 'N', 'A']\n",
    "}\n",
    "\n",
    "df = pd.DataFrame(data)\n",
    "df.set_index('Name', inplace=True)\n",
    "print(\"Original Data:\")\n",
    "display(df)"
   ]
  },
  {
   "cell_type": "markdown",
   "metadata": {},
   "source": [
    "## Binary Conversion\n",
    "Convert the data to binary format where:\n",
    "- Y (Yes) and P (Present) are converted to 1\n",
    "- N (No) and A (Absent) are converted to 0\n",
    "- Gender remains unchanged as it's a symmetric variable"
   ]
  },
  {
   "cell_type": "code",
   "execution_count": null,
   "metadata": {},
   "outputs": [],
   "source": [
    "def convert_to_binary(val):\n",
    "    return 1 if val in ['Y', 'P'] else 0\n",
    "\n",
    "# Create binary dataframe (excluding Gender)\n",
    "binary_df = df.copy()\n",
    "for col in binary_df.columns:\n",
    "    if col != 'Gender':\n",
    "        binary_df[col] = binary_df[col].apply(convert_to_binary)\n",
    "\n",
    "print(\"Binary Converted Data:\")\n",
    "display(binary_df)"
   ]
  },
  {
   "cell_type": "markdown",
   "metadata": {},
   "source": [
    "## Jaccard Coefficient Calculation\n",
    "\n",
    "The Jaccard coefficient is calculated using the formula:\n",
    "\n",
    "\\[ Jaccard = \\frac{f_{01} + f_{10}}{f_{01} + f_{10} + f_{11}} \\]\n",
    "\n",
    "Where:\n",
    "- f₀₁: count of cases where first individual has 0 and second has 1\n",
    "- f₁₀: count of cases where first individual has 1 and second has 0\n",
    "- f₁₁: count of cases where both individuals have 1"
   ]
  },
  {
   "cell_type": "code",
   "execution_count": null,
   "metadata": {},
   "outputs": [],
   "source": [
    "def jaccard_coefficient(row1, row2):\n",
    "    # Exclude Gender column\n",
    "    features1 = row1[1:].astype(int)\n",
    "    features2 = row2[1:].astype(int)\n",
    "    \n",
    "    f01 = sum((f1 == 0) and (f2 == 1) for f1, f2 in zip(features1, features2))\n",
    "    f10 = sum((f1 == 1) and (f2 == 0) for f1, f2 in zip(features1, features2))\n",
    "    f11 = sum((f1 == 1) and (f2 == 1) for f1, f2 in zip(features1, features2))\n",
    "    \n",
    "    denominator = f01 + f10 + f11\n",
    "    return (f01 + f10) / denominator if denominator > 0 else 0"
   ]
  },
  {
   "cell_type": "code",
   "execution_count": null,
   "metadata": {},
   "outputs": [],
   "source": [
    "# Calculate Jaccard coefficients for pairs\n",
    "pairs = [('Jack', 'Mary'), ('Jack', 'Jim'), ('Jim', 'Mary')]\n",
    "for a, b in pairs:\n",
    "    coef = jaccard_coefficient(binary_df.loc[a], binary_df.loc[b])\n",
    "    print(f'Jaccard coefficient for ({a}, {b}): {coef:.2f}')"
   ]
  }
 ],
 "metadata": {
  "kernelspec": {
   "display_name": "Python 3",
   "language": "python",
   "name": "python3"
  },
  "language_info": {
   "codemirror_mode": {
    "name": "ipython",
    "version": 3
   },
   "file_extension": ".py",
   "mimetype": "text/x-python",
   "name": "python",
   "nbconvert_exporter": "python",
   "pygments_lexer": "ipython3",
   "version": "3.8"
  }
 },
 "nbformat": 4,
 "nbformat_minor": 4
}