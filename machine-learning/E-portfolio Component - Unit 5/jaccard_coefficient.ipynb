{
 "cells": [
  {
   "cell_type": "markdown",
   "metadata": {},
   "source": [
    "# Jaccard Coefficient Calculation for Pathological Test Results\n",
    "\n",
    "This notebook demonstrates the calculation of Jaccard coefficients for pairs of individuals based on their pathological test results.\n",
    "\n",
    "## Data Preprocessing\n",
    "To calculate the Jaccard coefficient, we first convert the asymmetric variables to binary values:\n",
    "- Y & P = 1 (Present/Yes)\n",
    "- N & A = 0 (Absent/No)\n",
    "\n",
    "Note: Gender is a symmetric variable (male, female have the same weight), so it is not converted."
   ]
  },
  {
   "cell_type": "code",
   "execution_count": 1,
   "metadata": {},
   "outputs": [
    {
     "name": "stdout",
     "output_type": "stream",
     "text": [
      "Original Data:\n"
     ]
    },
    {
     "data": {
      "text/html": [
       "<div>\n",
       "<style scoped>\n",
       "    .dataframe tbody tr th:only-of-type {\n",
       "        vertical-align: middle;\n",
       "    }\n",
       "\n",
       "    .dataframe tbody tr th {\n",
       "        vertical-align: top;\n",
       "    }\n",
       "\n",
       "    .dataframe thead th {\n",
       "        text-align: right;\n",
       "    }\n",
       "</style>\n",
       "<table border=\"1\" class=\"dataframe\">\n",
       "  <thead>\n",
       "    <tr style=\"text-align: right;\">\n",
       "      <th></th>\n",
       "      <th>Gender</th>\n",
       "      <th>Fever</th>\n",
       "      <th>Cough</th>\n",
       "      <th>Test-1</th>\n",
       "      <th>Test-2</th>\n",
       "      <th>Test-3</th>\n",
       "      <th>Test-4</th>\n",
       "    </tr>\n",
       "    <tr>\n",
       "      <th>Name</th>\n",
       "      <th></th>\n",
       "      <th></th>\n",
       "      <th></th>\n",
       "      <th></th>\n",
       "      <th></th>\n",
       "      <th></th>\n",
       "      <th></th>\n",
       "    </tr>\n",
       "  </thead>\n",
       "  <tbody>\n",
       "    <tr>\n",
       "      <th>Jack</th>\n",
       "      <td>M</td>\n",
       "      <td>Y</td>\n",
       "      <td>N</td>\n",
       "      <td>P</td>\n",
       "      <td>N</td>\n",
       "      <td>N</td>\n",
       "      <td>A</td>\n",
       "    </tr>\n",
       "    <tr>\n",
       "      <th>Mary</th>\n",
       "      <td>F</td>\n",
       "      <td>Y</td>\n",
       "      <td>N</td>\n",
       "      <td>P</td>\n",
       "      <td>A</td>\n",
       "      <td>P</td>\n",
       "      <td>N</td>\n",
       "    </tr>\n",
       "    <tr>\n",
       "      <th>Jim</th>\n",
       "      <td>M</td>\n",
       "      <td>Y</td>\n",
       "      <td>P</td>\n",
       "      <td>N</td>\n",
       "      <td>N</td>\n",
       "      <td>N</td>\n",
       "      <td>A</td>\n",
       "    </tr>\n",
       "  </tbody>\n",
       "</table>\n",
       "</div>"
      ],
      "text/plain": [
       "     Gender Fever Cough Test-1 Test-2 Test-3 Test-4\n",
       "Name                                               \n",
       "Jack      M     Y     N      P      N      N      A\n",
       "Mary      F     Y     N      P      A      P      N\n",
       "Jim       M     Y     P      N      N      N      A"
      ]
     },
     "metadata": {},
     "output_type": "display_data"
    }
   ],
   "source": [
    "import pandas as pd\n",
    "import numpy as np\n",
    "\n",
    "# Data\n",
    "data = {\n",
    "    'Name': ['Jack', 'Mary', 'Jim'],\n",
    "    'Gender': ['M', 'F', 'M'],\n",
    "    'Fever': ['Y', 'Y', 'Y'],\n",
    "    'Cough': ['N', 'N', 'P'],\n",
    "    'Test-1': ['P', 'P', 'N'],\n",
    "    'Test-2': ['N', 'A', 'N'],\n",
    "    'Test-3': ['N', 'P', 'N'],\n",
    "    'Test-4': ['A', 'N', 'A']\n",
    "}\n",
    "\n",
    "df = pd.DataFrame(data)\n",
    "df.set_index('Name', inplace=True)\n",
    "print(\"Original Data:\")\n",
    "display(df)"
   ]
  },
  {
   "cell_type": "markdown",
   "metadata": {},
   "source": [
    "## Binary Conversion\n",
    "Convert the data to binary format where:\n",
    "- Y (Yes) and P (Present) are converted to 1\n",
    "- N (No) and A (Absent) are converted to 0\n",
    "- Gender remains unchanged as it's a symmetric variable"
   ]
  },
  {
   "cell_type": "code",
   "execution_count": 2,
   "metadata": {},
   "outputs": [
    {
     "name": "stdout",
     "output_type": "stream",
     "text": [
      "Binary Converted Data:\n"
     ]
    },
    {
     "data": {
      "text/html": [
       "<div>\n",
       "<style scoped>\n",
       "    .dataframe tbody tr th:only-of-type {\n",
       "        vertical-align: middle;\n",
       "    }\n",
       "\n",
       "    .dataframe tbody tr th {\n",
       "        vertical-align: top;\n",
       "    }\n",
       "\n",
       "    .dataframe thead th {\n",
       "        text-align: right;\n",
       "    }\n",
       "</style>\n",
       "<table border=\"1\" class=\"dataframe\">\n",
       "  <thead>\n",
       "    <tr style=\"text-align: right;\">\n",
       "      <th></th>\n",
       "      <th>Gender</th>\n",
       "      <th>Fever</th>\n",
       "      <th>Cough</th>\n",
       "      <th>Test-1</th>\n",
       "      <th>Test-2</th>\n",
       "      <th>Test-3</th>\n",
       "      <th>Test-4</th>\n",
       "    </tr>\n",
       "    <tr>\n",
       "      <th>Name</th>\n",
       "      <th></th>\n",
       "      <th></th>\n",
       "      <th></th>\n",
       "      <th></th>\n",
       "      <th></th>\n",
       "      <th></th>\n",
       "      <th></th>\n",
       "    </tr>\n",
       "  </thead>\n",
       "  <tbody>\n",
       "    <tr>\n",
       "      <th>Jack</th>\n",
       "      <td>M</td>\n",
       "      <td>1</td>\n",
       "      <td>0</td>\n",
       "      <td>1</td>\n",
       "      <td>0</td>\n",
       "      <td>0</td>\n",
       "      <td>0</td>\n",
       "    </tr>\n",
       "    <tr>\n",
       "      <th>Mary</th>\n",
       "      <td>F</td>\n",
       "      <td>1</td>\n",
       "      <td>0</td>\n",
       "      <td>1</td>\n",
       "      <td>0</td>\n",
       "      <td>1</td>\n",
       "      <td>0</td>\n",
       "    </tr>\n",
       "    <tr>\n",
       "      <th>Jim</th>\n",
       "      <td>M</td>\n",
       "      <td>1</td>\n",
       "      <td>1</td>\n",
       "      <td>0</td>\n",
       "      <td>0</td>\n",
       "      <td>0</td>\n",
       "      <td>0</td>\n",
       "    </tr>\n",
       "  </tbody>\n",
       "</table>\n",
       "</div>"
      ],
      "text/plain": [
       "     Gender  Fever  Cough  Test-1  Test-2  Test-3  Test-4\n",
       "Name                                                     \n",
       "Jack      M      1      0       1       0       0       0\n",
       "Mary      F      1      0       1       0       1       0\n",
       "Jim       M      1      1       0       0       0       0"
      ]
     },
     "metadata": {},
     "output_type": "display_data"
    }
   ],
   "source": [
    "def convert_to_binary(val):\n",
    "    return 1 if val in ['Y', 'P'] else 0\n",
    "\n",
    "# Create binary dataframe (excluding Gender)\n",
    "binary_df = df.copy()\n",
    "for col in binary_df.columns:\n",
    "    if col != 'Gender':\n",
    "        binary_df[col] = binary_df[col].apply(convert_to_binary)\n",
    "\n",
    "print(\"Binary Converted Data:\")\n",
    "display(binary_df)"
   ]
  },
  {
   "cell_type": "markdown",
   "metadata": {},
   "source": [
    "## Jaccard Coefficient Calculation\n",
    "\n",
    "The Jaccard coefficient is calculated using the formula:\n",
    "\n",
    "\\[ Jaccard = \\frac{f_{01} + f_{10}}{f_{01} + f_{10} + f_{11}} \\]\n",
    "\n",
    "Where:\n",
    "- f₀₁: count of cases where first individual has 0 and second has 1\n",
    "- f₁₀: count of cases where first individual has 1 and second has 0\n",
    "- f₁₁: count of cases where both individuals have 1"
   ]
  },
  {
   "cell_type": "code",
   "execution_count": 3,
   "metadata": {},
   "outputs": [],
   "source": [
    "def jaccard_coefficient(row1, row2):\n",
    "    # Exclude Gender column\n",
    "    features1 = row1[1:].astype(int)\n",
    "    features2 = row2[1:].astype(int)\n",
    "    \n",
    "    f01 = sum((f1 == 0) and (f2 == 1) for f1, f2 in zip(features1, features2))\n",
    "    f10 = sum((f1 == 1) and (f2 == 0) for f1, f2 in zip(features1, features2))\n",
    "    f11 = sum((f1 == 1) and (f2 == 1) for f1, f2 in zip(features1, features2))\n",
    "    \n",
    "    denominator = f01 + f10 + f11\n",
    "    return (f01 + f10) / denominator if denominator > 0 else 0"
   ]
  },
  {
   "cell_type": "code",
   "execution_count": 4,
   "metadata": {},
   "outputs": [
    {
     "name": "stdout",
     "output_type": "stream",
     "text": [
      "Jaccard coefficient for (Jack, Mary): 0.33\n",
      "Jaccard coefficient for (Jack, Jim): 0.67\n",
      "Jaccard coefficient for (Jim, Mary): 0.75\n"
     ]
    }
   ],
   "source": [
    "# Calculate Jaccard coefficients for pairs\n",
    "pairs = [('Jack', 'Mary'), ('Jack', 'Jim'), ('Jim', 'Mary')]\n",
    "for a, b in pairs:\n",
    "    coef = jaccard_coefficient(binary_df.loc[a], binary_df.loc[b])\n",
    "    print(f'Jaccard coefficient for ({a}, {b}): {coef:.2f}')"
   ]
  }
 ],
 "metadata": {
  "kernelspec": {
   "display_name": ".venv",
   "language": "python",
   "name": "python3"
  },
  "language_info": {
   "codemirror_mode": {
    "name": "ipython",
    "version": 3
   },
   "file_extension": ".py",
   "mimetype": "text/x-python",
   "name": "python",
   "nbconvert_exporter": "python",
   "pygments_lexer": "ipython3",
   "version": "3.13.3"
  }
 },
 "nbformat": 4,
 "nbformat_minor": 4
}
