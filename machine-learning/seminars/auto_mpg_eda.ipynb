{
 "cells": [
  {
   "cell_type": "markdown",
   "metadata": {},
   "source": [
    "# Auto-mpg Dataset EDA\n",
    "\n",
    "This notebook performs Exploratory Data Analysis (EDA) on the Auto-mpg dataset.\n",
    "\n",
    "## Steps:\n",
    "1. Load the dataset\n",
    "2. Identify missing values\n",
    "3. Estimate skewness and kurtosis\n",
    "4. Correlation heatmap\n",
    "5. Scatter plots for different parameters\n",
    "6. Replace categorical values with numerical values\n",
    "7. Summary of findings\n"
   ]
  },
  {
   "cell_type": "code",
   "metadata": {},
   "source": [
    "import pandas as pd\n",
    "import numpy as np\n",
    "import matplotlib.pyplot as plt\n",
    "import seaborn as sns\n",
    "from scipy.stats import skew, kurtosis\n",
    "\n",
    "# Load the dataset\n",
    "df = pd.read_csv('Unit02 auto-mpg (1).csv')\n",
    "df.head()"
   ]
  },
  {
   "cell_type": "markdown",
   "metadata": {},
   "source": [
    "## 1. Identify missing values"
   ]
  },
  {
   "cell_type": "code",
   "metadata": {},
   "source": [
    "df.info()\n",
    "df.isnull().sum()"
   ]
  },
  {
   "cell_type": "markdown",
   "metadata": {},
   "source": [
    "## 2. Estimate skewness and kurtosis"
   ]
  },
  {
   "cell_type": "code",
   "metadata": {},
   "source": [
    "numerical_cols = df.select_dtypes(include=[np.number]).columns\n",
    "skewness = df[numerical_cols].skew()\n",
    "kurt = df[numerical_cols].kurtosis()\n",
    "print('Skewness:\\n', skewness)\n",
    "print('\\nKurtosis:\\n', kurt)"
   ]
  },
  {
   "cell_type": "markdown",
   "metadata": {},
   "source": [
    "## 3. Correlation Heatmap"
   ]
  },
  {
   "cell_type": "code",
   "metadata": {},
   "source": [
    "plt.figure(figsize=(10,7))\n",
    "sns.heatmap(df.corr(), annot=True, cmap='coolwarm')\n",
    "plt.title('Correlation Heatmap')\n",
    "plt.show()"
   ]
  },
  {
   "cell_type": "markdown",
   "metadata": {},
   "source": [
    "## 4. Scatter plots for different parameters"
   ]
  },
  {
   "cell_type": "code",
   "metadata": {},
   "source": [
    "sns.pairplot(df[numerical_cols])\n",
    "plt.show()"
   ]
  },
  {
   "cell_type": "markdown",
   "metadata": {},
   "source": [
    "## 5. Replace categorical values with numerical values (e.g., America 1, Europe 2, etc.)"
   ]
  },
  {
   "cell_type": "code",
   "metadata": {},
   "source": [
    "# Check unique values in 'origin' column\n",
    "print(df['origin'].unique())\n",
    "\n",
    "# Replace origin values (example: if they are strings)\n",
    "df['origin'] = df['origin'].replace({'USA': 1, 'Europe': 2, 'Japan': 3})\n",
    "\n",
    "# If 'origin' is already numeric, you can skip or explain mapping."
   ]
  },
  {
   "cell_type": "markdown",
   "metadata": {},
   "source": [
    "## 6. Summary of Findings\n",
    "\n",
    "- Missing values: [to be filled after running code]\n",
    "- Skewness and kurtosis indicate [interpret based on output].\n",
    "- Correlation heatmap shows [describe strongest correlations].\n",
    "- Scatter plots reveal [describe relationships].\n",
    "- Categorical values in 'origin' replaced with numeric codes.\n",
    "\n",
    "---\n",
    "> Run each cell and fill in the findings based on the output. Save your results for your e-portfolio and seminar discussion.\n"
   ]
  }
 ],
 "metadata": {
  "kernelspec": {
   "display_name": "Python 3",
   "language": "python",
   "name": "python3"
  },
  "language_info": {
   "name": "python",
   "version": "3.8"
  }
 },
 "nbformat": 4,
 "nbformat_minor": 2
}
